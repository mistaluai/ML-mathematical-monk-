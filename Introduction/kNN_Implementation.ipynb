{
 "cells": [
  {
   "cell_type": "code",
   "execution_count": 4,
   "id": "8390e624-0163-47b2-8cd9-ec34c1605851",
   "metadata": {},
   "outputs": [],
   "source": [
    "import pandas as pd\n",
    "from sklearn.preprocessing import MinMaxScaler"
   ]
  },
  {
   "cell_type": "markdown",
   "id": "8257bd39-2405-4fb9-ac91-59fc65bcf284",
   "metadata": {},
   "source": [
    "## Importing dataset"
   ]
  },
  {
   "cell_type": "code",
   "execution_count": 6,
   "id": "07d9e959-f177-4058-81d5-939c0200d6ee",
   "metadata": {},
   "outputs": [
    {
     "data": {
      "text/html": [
       "<div>\n",
       "<style scoped>\n",
       "    .dataframe tbody tr th:only-of-type {\n",
       "        vertical-align: middle;\n",
       "    }\n",
       "\n",
       "    .dataframe tbody tr th {\n",
       "        vertical-align: top;\n",
       "    }\n",
       "\n",
       "    .dataframe thead th {\n",
       "        text-align: right;\n",
       "    }\n",
       "</style>\n",
       "<table border=\"1\" class=\"dataframe\">\n",
       "  <thead>\n",
       "    <tr style=\"text-align: right;\">\n",
       "      <th></th>\n",
       "      <th>sepal_length</th>\n",
       "      <th>sepal_width</th>\n",
       "      <th>petal_length</th>\n",
       "      <th>petal_width</th>\n",
       "      <th>Species</th>\n",
       "    </tr>\n",
       "    <tr>\n",
       "      <th>Id</th>\n",
       "      <th></th>\n",
       "      <th></th>\n",
       "      <th></th>\n",
       "      <th></th>\n",
       "      <th></th>\n",
       "    </tr>\n",
       "  </thead>\n",
       "  <tbody>\n",
       "    <tr>\n",
       "      <th>1</th>\n",
       "      <td>0.222222</td>\n",
       "      <td>0.625000</td>\n",
       "      <td>0.067797</td>\n",
       "      <td>0.041667</td>\n",
       "      <td>Iris-setosa</td>\n",
       "    </tr>\n",
       "    <tr>\n",
       "      <th>2</th>\n",
       "      <td>0.166667</td>\n",
       "      <td>0.416667</td>\n",
       "      <td>0.067797</td>\n",
       "      <td>0.041667</td>\n",
       "      <td>Iris-setosa</td>\n",
       "    </tr>\n",
       "    <tr>\n",
       "      <th>3</th>\n",
       "      <td>0.111111</td>\n",
       "      <td>0.500000</td>\n",
       "      <td>0.050847</td>\n",
       "      <td>0.041667</td>\n",
       "      <td>Iris-setosa</td>\n",
       "    </tr>\n",
       "    <tr>\n",
       "      <th>4</th>\n",
       "      <td>0.083333</td>\n",
       "      <td>0.458333</td>\n",
       "      <td>0.084746</td>\n",
       "      <td>0.041667</td>\n",
       "      <td>Iris-setosa</td>\n",
       "    </tr>\n",
       "    <tr>\n",
       "      <th>5</th>\n",
       "      <td>0.194444</td>\n",
       "      <td>0.666667</td>\n",
       "      <td>0.067797</td>\n",
       "      <td>0.041667</td>\n",
       "      <td>Iris-setosa</td>\n",
       "    </tr>\n",
       "  </tbody>\n",
       "</table>\n",
       "</div>"
      ],
      "text/plain": [
       "    sepal_length  sepal_width  petal_length  petal_width      Species\n",
       "Id                                                                   \n",
       "1       0.222222     0.625000      0.067797     0.041667  Iris-setosa\n",
       "2       0.166667     0.416667      0.067797     0.041667  Iris-setosa\n",
       "3       0.111111     0.500000      0.050847     0.041667  Iris-setosa\n",
       "4       0.083333     0.458333      0.084746     0.041667  Iris-setosa\n",
       "5       0.194444     0.666667      0.067797     0.041667  Iris-setosa"
      ]
     },
     "execution_count": 6,
     "metadata": {},
     "output_type": "execute_result"
    }
   ],
   "source": [
    "data = pd.read_csv(\"iris.csv\", index_col=0)\n",
    "data.head()\n",
    "scaler = MinMaxScaler()\n",
    "df = data.drop('Species', axis=1) \n",
    "data_rows = scaler.fit_transform(df.to_numpy())\n",
    "data_rows = pd.DataFrame(data_rows, columns=[\n",
    "  'sepal_length', 'sepal_width', 'petal_length', 'petal_width'], index=df.index)\n",
    "data_rows = pd.concat((data_rows, data[\"Species\"]), axis=1)\n",
    "data_rows.head()"
   ]
  },
  {
   "cell_type": "markdown",
   "id": "728b0e3c-c501-4a5b-9ae8-2c948c1244e7",
   "metadata": {},
   "source": [
    "## Prepare the kNN\n",
    "$$\n",
    "Euclidean Distance = sqrt(sum\\ i\\ to\\ N\\ (x^1_i – x^2_i)^2)\n",
    "$$"
   ]
  },
  {
   "cell_type": "code",
   "execution_count": 8,
   "id": "fb388872-73e4-4c5b-9f02-3c44bd8279af",
   "metadata": {},
   "outputs": [],
   "source": [
    "from math import sqrt\n",
    "\n",
    "class kNNClassifier:\n",
    "    def __init__(self, data_rows, k):\n",
    "        self.data_rows = data_rows\n",
    "        self.k = k\n",
    "        \n",
    "    def euclidean_distance(self, row_1, row_2, isLastOutput=True):\n",
    "        distance = 0\n",
    "        num_features = len(row_2) - 1 if isLastOutput else len(row_2)  # Ignore the last column if it is the output\n",
    "        if isLastOutput is True:\n",
    "            pass\n",
    "        for i in range(num_features):\n",
    "            distance += (row_1.iloc[i] - row_2.iloc[i]) ** 2\n",
    "        return sqrt(distance)\n",
    "\n",
    "    def get_neighbors(self, query_row):\n",
    "        distances = []\n",
    "        for i, row in self.data_rows.iterrows():\n",
    "            distance = self.euclidean_distance(row, query_row)\n",
    "            distances.append((row, distance))\n",
    "        distances.sort(key=lambda x: x[1])\n",
    "        neighbors = []\n",
    "        for i in range(self.k):\n",
    "            neighbors.append(distances[i][0])\n",
    "        return neighbors\n",
    "    \n",
    "    def predict(self, query_row):\n",
    "        neighbors = self.get_neighbors(query_row)\n",
    "        output_values = [row.iloc[-1] for row in neighbors]\n",
    "        prediction = max(set(output_values), key=output_values.count)\n",
    "        return prediction\n",
    "    def validate(self, validation_rows):\n",
    "        pass\n"
   ]
  },
  {
   "cell_type": "code",
   "execution_count": 10,
   "id": "69a4f13f-e10c-486c-ab38-850a0659c80b",
   "metadata": {},
   "outputs": [
    {
     "name": "stdout",
     "output_type": "stream",
     "text": [
      "0.9666666666666667\n"
     ]
    }
   ],
   "source": [
    "from sklearn.model_selection import train_test_split\n",
    "from sklearn.metrics import accuracy_score\n",
    "\n",
    "# Suppose X is your feature set and y is your target variable\n",
    "X = data_rows.drop('Species', axis=1)  # Features\n",
    "y = data_rows['Species']  # Target variable\n",
    "\n",
    "# Split the dataset into training and testing sets\n",
    "X_train, X_test, y_train, y_test = train_test_split(X, y, test_size=0.2, random_state=42)\n",
    "\n",
    "training_data = pd.concat((X_train, y_train), axis=1)\n",
    "\n",
    "classifier = kNNClassifier(training_data, 7)\n",
    "predictions = []\n",
    "for i, row in X_test.iterrows():\n",
    "    predictions.append(classifier.predict(row))\n",
    "\n",
    "accuracy = accuracy_score(y_test, predictions)\n",
    "print(accuracy)\n"
   ]
  },
  {
   "cell_type": "code",
   "execution_count": null,
   "id": "8b142076-78c9-4be6-86b0-da21a6a2e97b",
   "metadata": {},
   "outputs": [],
   "source": []
  }
 ],
 "metadata": {
  "kernelspec": {
   "display_name": "Python 3 (ipykernel)",
   "language": "python",
   "name": "python3"
  },
  "language_info": {
   "codemirror_mode": {
    "name": "ipython",
    "version": 3
   },
   "file_extension": ".py",
   "mimetype": "text/x-python",
   "name": "python",
   "nbconvert_exporter": "python",
   "pygments_lexer": "ipython3",
   "version": "3.12.4"
  }
 },
 "nbformat": 4,
 "nbformat_minor": 5
}
